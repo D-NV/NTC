{
 "cells": [
  {
   "cell_type": "code",
   "execution_count": 1,
   "metadata": {},
   "outputs": [],
   "source": [
    "# Load libraries\n",
    "import pandas as pd\n",
    "from sklearn.tree import DecisionTreeClassifier # Import Decision Tree Classifier\n",
    "from sklearn.model_selection import train_test_split # Import train_test_split function\n",
    "from sklearn import metrics #Import scikit-learn metrics module for accuracy calculation\n",
    "import numpy as mp"
   ]
  },
  {
   "cell_type": "code",
   "execution_count": 2,
   "metadata": {},
   "outputs": [],
   "source": [
    "# List of all the 12 features\n",
    "feature_cols = ['mean_fpktl', 'std_fpktl', 'mean_bpktl', 'std_bpktl', 'mean_fiat', 'std_fiat', 'mean_biat', 'std_biat', 'fpkt_rate', 'fbyte_rate', 'bpkt_rate', 'bbyte_rate']"
   ]
  },
  {
   "cell_type": "code",
   "execution_count": 3,
   "metadata": {},
   "outputs": [],
   "source": [
    "# Reading the sampled data containing 12 features, 10152 rows and 11 classes\n",
    "sampled_data = pd.read_csv('../dataset/dataset-12-features/sampled-dataset.csv')\n",
    "sampled_df=pd.DataFrame(sampled_data)"
   ]
  },
  {
   "cell_type": "code",
   "execution_count": 4,
   "metadata": {},
   "outputs": [],
   "source": [
    "# Reading the original data containing 12 features, 34803 rows and 11 classes\n",
    "original_data = pd.read_csv('../dataset/dataset-12-features/original-dataset-cleaned.csv')\n",
    "original_df=pd.DataFrame(original_data)"
   ]
  },
  {
   "cell_type": "code",
   "execution_count": 5,
   "metadata": {},
   "outputs": [
    {
     "name": "stdout",
     "output_type": "stream",
     "text": [
      "<class 'pandas.core.frame.DataFrame'>\n",
      "RangeIndex: 10152 entries, 0 to 10151\n",
      "Data columns (total 13 columns):\n",
      "mean_fpktl    10152 non-null int64\n",
      "std_fpktl     10152 non-null int64\n",
      "mean_bpktl    10152 non-null int64\n",
      "std_bpktl     10152 non-null int64\n",
      "mean_fiat     10152 non-null int64\n",
      "std_fiat      10152 non-null int64\n",
      "mean_biat     10152 non-null int64\n",
      "std_biat      10152 non-null int64\n",
      "fpkt_rate     10152 non-null float64\n",
      "fbyte_rate    10152 non-null float64\n",
      "bpkt_rate     10152 non-null float64\n",
      "bbyte_rate    10152 non-null float64\n",
      "class         10152 non-null object\n",
      "dtypes: float64(4), int64(8), object(1)\n",
      "memory usage: 1.0+ MB\n"
     ]
    }
   ],
   "source": [
    "sampled_df.info()"
   ]
  },
  {
   "cell_type": "code",
   "execution_count": 6,
   "metadata": {},
   "outputs": [
    {
     "name": "stdout",
     "output_type": "stream",
     "text": [
      "<class 'pandas.core.frame.DataFrame'>\n",
      "RangeIndex: 34803 entries, 0 to 34802\n",
      "Data columns (total 13 columns):\n",
      "mean_fpktl    34803 non-null int64\n",
      "std_fpktl     34803 non-null int64\n",
      "mean_bpktl    34803 non-null int64\n",
      "std_bpktl     34803 non-null int64\n",
      "mean_fiat     34803 non-null int64\n",
      "std_fiat      34803 non-null int64\n",
      "mean_biat     34803 non-null int64\n",
      "std_biat      34803 non-null int64\n",
      "fpkt_rate     34803 non-null float64\n",
      "fbyte_rate    34803 non-null float64\n",
      "bpkt_rate     34803 non-null float64\n",
      "bbyte_rate    34803 non-null float64\n",
      "class         34803 non-null object\n",
      "dtypes: float64(4), int64(8), object(1)\n",
      "memory usage: 3.5+ MB\n"
     ]
    }
   ],
   "source": [
    "original_df.info()"
   ]
  },
  {
   "cell_type": "code",
   "execution_count": 7,
   "metadata": {},
   "outputs": [],
   "source": [
    "# Training on sampled data , Testing on Original Data\n",
    "sampled_X = sampled_data[feature_cols]\n",
    "sampled_y = sampled_data['class']\n",
    "original_X = original_data[feature_cols]\n",
    "original_y = original_data['class']"
   ]
  },
  {
   "cell_type": "code",
   "execution_count": 8,
   "metadata": {},
   "outputs": [],
   "source": [
    "# Create Decision Tree classifer object\n",
    "clf = DecisionTreeClassifier()\n",
    "# Train Decision Tree Classifer\n",
    "clf = clf.fit(sampled_X,sampled_y)\n",
    "#Predict the response for test dataset\n",
    "y_pred = clf.predict(original_X)"
   ]
  },
  {
   "cell_type": "code",
   "execution_count": 11,
   "metadata": {},
   "outputs": [],
   "source": [
    "def cal_accuracy(y_test, y_pred): \n",
    "    print (\"Accuracy : \",metrics.accuracy_score(y_test,y_pred)*100) \n",
    "    print(\"Report : \",metrics.classification_report(y_test, y_pred))\n",
    "    print(\"Confusion Matrix:\\n\",metrics.confusion_matrix(y_test, y_pred))"
   ]
  },
  {
   "cell_type": "code",
   "execution_count": 12,
   "metadata": {},
   "outputs": [
    {
     "name": "stdout",
     "output_type": "stream",
     "text": [
      "Accuracy :  97.03761170014079\n",
      "Report :                    precision    recall  f1-score   support\n",
      "\n",
      "             DNS       1.00      1.00      1.00      1439\n",
      "             FTP       0.94      1.00      0.97       295\n",
      "            HTTP       0.85      0.94      0.90      3470\n",
      "          TELNET       1.00      1.00      1.00       857\n",
      "            lime       0.99      0.95      0.97     14959\n",
      " localForwarding       0.98      0.99      0.99      2521\n",
      "remoteForwarding       0.98      0.99      0.99      2422\n",
      "             scp       0.97      1.00      0.98      2411\n",
      "            sftp       0.98      0.99      0.99      2412\n",
      "           shell       0.98      0.99      0.98      2004\n",
      "             x11       0.96      0.99      0.97      2013\n",
      "\n",
      "        accuracy                           0.97     34803\n",
      "       macro avg       0.97      0.99      0.98     34803\n",
      "    weighted avg       0.97      0.97      0.97     34803\n",
      "\n",
      "Confusion Matrix:\n",
      " [[ 1438     1     0     0     0     0     0     0     0     0     0]\n",
      " [    0   295     0     0     0     0     0     0     0     0     0]\n",
      " [    0     1  3269     0   110     1     7     9     6    19    48]\n",
      " [    0     0     0   857     0     0     0     0     0     0     0]\n",
      " [    2    16   530     0 14239    25    38    41    30    10    28]\n",
      " [    0     0     2     0     0  2506     0     5     8     0     0]\n",
      " [    0     0     7     0     5     0  2406     1     0     3     0]\n",
      " [    0     0     2     0     2     3     0  2399     3     1     1]\n",
      " [    0     0     4     0     2     8     0     9  2389     0     0]\n",
      " [    1     0     6     0     4     0     1     1     1  1980    10]\n",
      " [    0     0    10     0     3     2     0     0     0     4  1994]]\n"
     ]
    }
   ],
   "source": [
    "# Metrics for Prediction\n",
    "cal_accuracy(original_y,y_pred)"
   ]
  },
  {
   "cell_type": "code",
   "execution_count": null,
   "metadata": {},
   "outputs": [],
   "source": []
  }
 ],
 "metadata": {
  "kernelspec": {
   "display_name": "Python 3",
   "language": "python",
   "name": "python3"
  },
  "language_info": {
   "codemirror_mode": {
    "name": "ipython",
    "version": 3
   },
   "file_extension": ".py",
   "mimetype": "text/x-python",
   "name": "python",
   "nbconvert_exporter": "python",
   "pygments_lexer": "ipython3",
   "version": "3.6.9"
  }
 },
 "nbformat": 4,
 "nbformat_minor": 4
}
